{
 "cells": [
  {
   "cell_type": "code",
   "execution_count": 1,
   "id": "39bab7f8-7c4a-44b1-9561-49efa98ab38b",
   "metadata": {},
   "outputs": [],
   "source": [
    "import pandas as pd"
   ]
  },
  {
   "cell_type": "code",
   "execution_count": 61,
   "id": "8ee6b21f-181c-427c-a596-4c3fc83ce4d5",
   "metadata": {},
   "outputs": [],
   "source": [
    "df = pd.read_csv('data/spotify_millsongdata.csv')"
   ]
  },
  {
   "cell_type": "code",
   "execution_count": 65,
   "id": "0f738088-4011-4da3-ba7f-2273d3b0d1d2",
   "metadata": {},
   "outputs": [
    {
     "data": {
      "text/plain": [
       "['ABBA',\n",
       " 'Ace Of Base',\n",
       " 'Adam Sandler',\n",
       " 'Adele',\n",
       " 'Aerosmith',\n",
       " 'Air Supply',\n",
       " 'Aiza Seguerra',\n",
       " 'Alabama',\n",
       " 'Alan Parsons Project',\n",
       " 'Aled Jones',\n",
       " 'Alice Cooper',\n",
       " 'Alice In Chains',\n",
       " 'Alison Krauss',\n",
       " 'Allman Brothers Band',\n",
       " 'Alphaville',\n",
       " 'America',\n",
       " 'Amy Grant',\n",
       " 'Andrea Bocelli',\n",
       " 'Andy Williams',\n",
       " 'Annie',\n",
       " 'Ariana Grande',\n",
       " 'Ariel Rivera',\n",
       " 'Arlo Guthrie',\n",
       " 'Arrogant Worms',\n",
       " 'Avril Lavigne',\n",
       " 'Backstreet Boys',\n",
       " 'Barbie',\n",
       " 'Barbra Streisand',\n",
       " 'Beach Boys',\n",
       " 'The Beatles',\n",
       " 'Beautiful South',\n",
       " 'Beauty And The Beast',\n",
       " 'Bee Gees',\n",
       " 'Bette Midler',\n",
       " 'Bill Withers',\n",
       " 'Billie Holiday',\n",
       " 'Billy Joel',\n",
       " 'Bing Crosby',\n",
       " 'Black Sabbath',\n",
       " 'Blur',\n",
       " 'Bob Dylan',\n",
       " 'Bob Marley',\n",
       " 'Bob Rivers',\n",
       " 'Bob Seger',\n",
       " 'Bon Jovi',\n",
       " 'Boney M.',\n",
       " 'Bonnie Raitt',\n",
       " 'Bosson',\n",
       " 'Bread',\n",
       " 'Britney Spears',\n",
       " 'Bruce Springsteen',\n",
       " 'Bruno Mars',\n",
       " 'Bryan White',\n",
       " 'Cake',\n",
       " 'Carly Simon',\n",
       " 'Carol Banawa',\n",
       " 'Carpenters',\n",
       " 'Cat Stevens',\n",
       " 'Celine Dion',\n",
       " 'Chaka Khan',\n",
       " 'Cheap Trick',\n",
       " 'Cher',\n",
       " 'Chicago',\n",
       " 'Children',\n",
       " 'Chris Brown',\n",
       " 'Chris Rea',\n",
       " 'Christina Aguilera',\n",
       " 'Christina Perri',\n",
       " 'Christmas Songs',\n",
       " 'Christy Moore',\n",
       " 'Chuck Berry',\n",
       " 'Cinderella',\n",
       " 'Clash',\n",
       " 'Cliff Richard',\n",
       " 'Coldplay',\n",
       " 'Cole Porter',\n",
       " 'Conway Twitty',\n",
       " 'Counting Crows',\n",
       " 'Creedence Clearwater Revival',\n",
       " 'Crowded House',\n",
       " 'Culture Club',\n",
       " 'Cyndi Lauper',\n",
       " 'Dan Fogelberg',\n",
       " 'Dave Matthews Band',\n",
       " 'David Allan Coe',\n",
       " 'David Bowie',\n",
       " 'David Guetta',\n",
       " 'David Pomeranz',\n",
       " 'Dean Martin',\n",
       " 'Death',\n",
       " 'Deep Purple',\n",
       " 'Def Leppard',\n",
       " 'Demi Lovato',\n",
       " 'Depeche Mode',\n",
       " 'Devo',\n",
       " 'Dewa 19',\n",
       " 'Diana Ross',\n",
       " 'Dire Straits',\n",
       " 'Divine',\n",
       " 'Dolly Parton',\n",
       " 'Don Henley',\n",
       " 'Don McLean',\n",
       " 'Don Moen',\n",
       " 'Donna Summer',\n",
       " 'Doobie Brothers',\n",
       " 'Doors',\n",
       " 'Doris Day',\n",
       " 'Drake',\n",
       " 'Dream Theater',\n",
       " 'Dusty Springfield',\n",
       " 'Eagles',\n",
       " 'Ed Sheeran',\n",
       " 'Eddie Cochran',\n",
       " 'Electric Light Orchestra',\n",
       " 'Ella Fitzgerald',\n",
       " 'Ellie Goulding',\n",
       " 'Elton John',\n",
       " 'Elvis Costello',\n",
       " 'Elvis Presley',\n",
       " 'Eminem',\n",
       " 'Emmylou Harris',\n",
       " 'Engelbert Humperdinck',\n",
       " 'Enigma',\n",
       " 'Enrique Iglesias',\n",
       " 'Enya',\n",
       " 'Eppu Normaali',\n",
       " 'Erasure',\n",
       " 'Eric Clapton',\n",
       " 'Erik Santos',\n",
       " 'Etta James',\n",
       " 'Europe',\n",
       " 'Eurythmics',\n",
       " 'Evanescence',\n",
       " 'Everclear',\n",
       " 'Everlast',\n",
       " 'Exo',\n",
       " 'Exo-K',\n",
       " 'Extreme',\n",
       " 'Fabolous',\n",
       " 'Face To Face',\n",
       " 'Faces',\n",
       " 'Faith Hill',\n",
       " 'Faith No More',\n",
       " 'Falco',\n",
       " 'Fall Out Boy',\n",
       " 'Fastball',\n",
       " 'Fatboy Slim',\n",
       " 'Fifth Harmony',\n",
       " 'Fiona Apple',\n",
       " 'Fleetwood Mac',\n",
       " 'Flo-Rida',\n",
       " 'Foo Fighters',\n",
       " 'Foreigner',\n",
       " 'Frank Sinatra',\n",
       " 'Frank Zappa',\n",
       " 'Frankie Goes To Hollywood',\n",
       " 'Frankie Laine',\n",
       " 'Frankie Valli',\n",
       " 'Freddie Aguilar',\n",
       " 'Freddie King',\n",
       " 'Free',\n",
       " 'Freestyle',\n",
       " 'Fun.',\n",
       " 'Garth Brooks',\n",
       " 'Gary Numan',\n",
       " 'Gary Valenciano',\n",
       " 'Genesis',\n",
       " 'George Formby',\n",
       " 'George Harrison',\n",
       " 'George Jones',\n",
       " 'George Michael',\n",
       " 'George Strait',\n",
       " 'Gino Vannelli',\n",
       " 'Gipsy Kings',\n",
       " 'Glee',\n",
       " 'Glen Campbell',\n",
       " 'Gloria Estefan',\n",
       " 'Gloria Gaynor',\n",
       " 'GMB',\n",
       " 'Gordon Lightfoot',\n",
       " 'Grand Funk Railroad',\n",
       " 'Grateful Dead',\n",
       " 'Grease',\n",
       " 'Great Big Sea',\n",
       " 'Green Day',\n",
       " 'Gucci Mane',\n",
       " 'Guided By Voices',\n",
       " \"Guns N' Roses\",\n",
       " 'Halloween',\n",
       " 'Hank Snow',\n",
       " 'Hank Williams',\n",
       " 'Hank Williams Jr.',\n",
       " 'Hanson',\n",
       " 'Happy Mondays',\n",
       " 'Harry Belafonte',\n",
       " 'Harry Connick, Jr.',\n",
       " 'Heart',\n",
       " 'Helloween',\n",
       " 'High School Musical',\n",
       " 'Hillsong',\n",
       " 'Hillsong United',\n",
       " 'HIM',\n",
       " 'Hollies',\n",
       " 'Hooverphonic',\n",
       " 'Horrible Histories',\n",
       " 'Housemartins',\n",
       " 'Howard Jones',\n",
       " 'Human League',\n",
       " 'Ian Hunter',\n",
       " 'Ice Cube',\n",
       " 'Idina Menzel',\n",
       " 'Iggy Pop',\n",
       " 'Il Divo',\n",
       " 'Imagine Dragons',\n",
       " 'Imago',\n",
       " 'Imperials',\n",
       " 'Incognito',\n",
       " 'Incubus',\n",
       " 'Independence Day',\n",
       " 'Indiana Bible College',\n",
       " 'Indigo Girls',\n",
       " 'Ingrid Michaelson',\n",
       " 'Inna',\n",
       " 'Insane Clown Posse',\n",
       " 'Inside Out',\n",
       " 'INXS',\n",
       " 'Iron Butterfly',\n",
       " 'Iron Maiden',\n",
       " 'Irving Berlin',\n",
       " 'Isley Brothers',\n",
       " 'Israel',\n",
       " 'Israel Houghton',\n",
       " 'Iwan Fals',\n",
       " 'J Cole',\n",
       " 'Jackson Browne',\n",
       " 'The Jam',\n",
       " 'James Taylor',\n",
       " 'Janis Joplin',\n",
       " 'Jason Mraz',\n",
       " 'Jennifer Lopez',\n",
       " 'Jim Croce',\n",
       " 'Jimi Hendrix',\n",
       " 'Jimmy Buffett',\n",
       " 'John Denver',\n",
       " 'John Legend',\n",
       " 'John Martyn',\n",
       " 'John McDermott',\n",
       " 'John Mellencamp',\n",
       " 'John Prine',\n",
       " 'John Waite',\n",
       " 'Johnny Cash',\n",
       " 'Joni Mitchell',\n",
       " 'Jose Mari Chan',\n",
       " 'Josh Groban',\n",
       " 'Journey',\n",
       " 'Joy Division',\n",
       " 'Judas Priest',\n",
       " 'Judds',\n",
       " 'Judy Garland',\n",
       " 'Justin Bieber',\n",
       " 'Justin Timberlake',\n",
       " 'Kanye West',\n",
       " 'Kari Jobe',\n",
       " 'Kate Bush',\n",
       " 'Katy Perry',\n",
       " 'Keith Green',\n",
       " 'Keith Urban',\n",
       " 'Kelly Clarkson',\n",
       " 'Kelly Family',\n",
       " 'Kenny Chesney',\n",
       " 'Kenny Loggins',\n",
       " 'Kenny Rogers',\n",
       " 'Kid Rock',\n",
       " 'The Killers',\n",
       " 'Kim Wilde',\n",
       " 'King Crimson',\n",
       " 'King Diamond',\n",
       " 'Kinks',\n",
       " 'Kirk Franklin',\n",
       " 'Kirsty Maccoll',\n",
       " 'Kiss',\n",
       " 'Koes Plus',\n",
       " 'Korn',\n",
       " 'Kris Kristofferson',\n",
       " 'Kyla',\n",
       " 'Kylie Minogue',\n",
       " 'Lady Gaga',\n",
       " 'Lana Del Rey',\n",
       " 'Lata Mangeshkar',\n",
       " 'Lauryn Hill',\n",
       " 'Lea Salonga',\n",
       " 'Leann Rimes',\n",
       " 'Lenny Kravitz',\n",
       " 'Leo Sayer',\n",
       " 'Leonard Cohen',\n",
       " 'Les Miserables',\n",
       " 'Lil Wayne',\n",
       " 'Linda Ronstadt',\n",
       " 'Linkin Park',\n",
       " 'Lionel Richie',\n",
       " 'Little Mix',\n",
       " 'Little Walter',\n",
       " 'LL Cool J',\n",
       " 'Lloyd Cole',\n",
       " 'Lorde',\n",
       " 'Loretta Lynn',\n",
       " 'Lou Reed',\n",
       " 'Louis Armstrong',\n",
       " 'Louis Jordan',\n",
       " 'Lucky Dube',\n",
       " 'Luther Vandross',\n",
       " 'Lynyrd Skynyrd',\n",
       " 'Madonna',\n",
       " 'Manowar',\n",
       " 'Mariah Carey',\n",
       " 'Marianne Faithfull',\n",
       " 'Marillion',\n",
       " 'Marilyn Manson',\n",
       " 'Mark Ronson',\n",
       " 'Maroon 5',\n",
       " 'Mary Black',\n",
       " 'Matt Monro',\n",
       " 'Matt Redman',\n",
       " 'Mazzy Star',\n",
       " 'Mc Hammer',\n",
       " 'Meat Loaf',\n",
       " 'Megadeth',\n",
       " 'Men At Work',\n",
       " 'Metallica',\n",
       " 'Michael Bolton',\n",
       " 'Michael Buble',\n",
       " 'Michael Jackson',\n",
       " 'Michael W. Smith',\n",
       " 'Migos',\n",
       " 'Miley Cyrus',\n",
       " 'Misfits',\n",
       " 'Modern Talking',\n",
       " 'The Monkees',\n",
       " 'Moody Blues',\n",
       " 'Morrissey',\n",
       " 'Mud',\n",
       " \"'n Sync\",\n",
       " 'Nat King Cole',\n",
       " 'Natalie Cole',\n",
       " 'Natalie Grant',\n",
       " 'Natalie Imbruglia',\n",
       " 'Nazareth',\n",
       " 'Ne-Yo',\n",
       " 'Neil Diamond',\n",
       " 'Neil Sedaka',\n",
       " 'Neil Young',\n",
       " 'New Order',\n",
       " 'Next To Normal',\n",
       " 'Nick Cave',\n",
       " 'Nick Drake',\n",
       " 'Nickelback',\n",
       " 'Nicki Minaj',\n",
       " 'Nightwish',\n",
       " 'Nina Simone',\n",
       " 'Nine Inch Nails',\n",
       " 'Nirvana',\n",
       " 'Nitty Gritty Dirt Band',\n",
       " 'Noa',\n",
       " 'NOFX',\n",
       " 'Norah Jones',\n",
       " 'Notorious B.I.G.',\n",
       " 'O-Zone',\n",
       " 'O.A.R.',\n",
       " 'Oasis',\n",
       " 'Ocean Colour Scene',\n",
       " 'Offspring',\n",
       " 'Ofra Haza',\n",
       " 'Oingo Boingo',\n",
       " \"Old 97's\",\n",
       " 'Oliver',\n",
       " 'Olivia Newton-John',\n",
       " 'Olly Murs',\n",
       " 'Omd',\n",
       " 'One Direction',\n",
       " 'OneRepublic',\n",
       " 'Opeth',\n",
       " 'Orphaned Land',\n",
       " 'Oscar Hammerstein',\n",
       " 'Otis Redding',\n",
       " 'Our Lady Peace',\n",
       " 'Out Of Eden',\n",
       " 'Outkast',\n",
       " 'Overkill',\n",
       " 'Owl City',\n",
       " 'Ozzy Osbourne',\n",
       " 'Passenger',\n",
       " 'Pat Benatar',\n",
       " 'Patsy Cline',\n",
       " 'Patti Smith',\n",
       " 'Paul McCartney',\n",
       " 'Paul Simon',\n",
       " 'Pearl Jam',\n",
       " 'Perry Como',\n",
       " 'Pet Shop Boys',\n",
       " 'Peter Cetera',\n",
       " 'Peter Gabriel',\n",
       " 'Peter Tosh',\n",
       " 'Pharrell Williams',\n",
       " 'Phil Collins',\n",
       " 'Phineas And Ferb',\n",
       " 'Phish',\n",
       " 'Pink Floyd',\n",
       " 'Pitbull',\n",
       " 'Planetshakers',\n",
       " 'P!nk',\n",
       " 'Pogues',\n",
       " 'Point Of Grace',\n",
       " 'Poison',\n",
       " 'Pretenders',\n",
       " 'Primus',\n",
       " 'Prince',\n",
       " 'Proclaimers',\n",
       " 'Procol Harum',\n",
       " 'Puff Daddy',\n",
       " 'Q-Tip',\n",
       " 'Qntal',\n",
       " 'Quarashi',\n",
       " 'Quarterflash',\n",
       " 'Quasi',\n",
       " 'Queen',\n",
       " 'Queen Adreena',\n",
       " 'Queen Latifah',\n",
       " 'Queens Of The Stone Age',\n",
       " 'Queensryche',\n",
       " 'Quicksand',\n",
       " 'Quicksilver Messenger Service',\n",
       " 'Quiet Riot',\n",
       " 'Quietdrive',\n",
       " 'Quincy Jones',\n",
       " 'Quincy Punx',\n",
       " 'R. Kelly',\n",
       " 'Radiohead',\n",
       " 'Raffi',\n",
       " 'Rage Against The Machine',\n",
       " 'Rainbow',\n",
       " 'Rammstein',\n",
       " 'Ramones',\n",
       " 'Randy Travis',\n",
       " 'Rascal Flatts',\n",
       " 'Ray Boltz',\n",
       " 'Ray Charles',\n",
       " 'Reba Mcentire',\n",
       " 'Red Hot Chili Peppers',\n",
       " 'Regine Velasquez',\n",
       " 'Religious Music',\n",
       " 'Rem',\n",
       " 'Reo Speedwagon',\n",
       " 'Richard Marx',\n",
       " 'Rick Astley',\n",
       " 'Rihanna',\n",
       " 'Robbie Williams',\n",
       " 'Rod Stewart',\n",
       " 'Rolling Stones',\n",
       " 'Roxette',\n",
       " 'Roxy Music',\n",
       " 'Roy Orbison',\n",
       " 'Rush',\n",
       " 'Sam Smith',\n",
       " 'Santana',\n",
       " 'Savage Garden',\n",
       " 'Scorpions',\n",
       " 'Selah',\n",
       " 'Selena Gomez',\n",
       " 'Sia',\n",
       " 'Side A',\n",
       " 'Slayer',\n",
       " 'Smiths',\n",
       " 'Snoop Dogg',\n",
       " 'Soundgarden',\n",
       " 'Spandau Ballet',\n",
       " 'Squeeze',\n",
       " 'Starship',\n",
       " 'Status Quo',\n",
       " 'Steely Dan',\n",
       " 'Steve Miller Band',\n",
       " 'Stevie Ray Vaughan',\n",
       " 'Stevie Wonder',\n",
       " 'Sting',\n",
       " 'Stone Roses',\n",
       " 'Stone Temple Pilots',\n",
       " 'Styx',\n",
       " 'Sublime',\n",
       " 'Supertramp',\n",
       " 'System Of A Down',\n",
       " 'Talking Heads',\n",
       " 'Taylor Swift',\n",
       " 'Tears For Fears',\n",
       " 'The Temptations',\n",
       " 'Ten Years After',\n",
       " 'The Broadways',\n",
       " 'The Script',\n",
       " 'The Weeknd',\n",
       " 'Thin Lizzy',\n",
       " 'Tiffany',\n",
       " 'Tim Buckley',\n",
       " 'Tim McGraw',\n",
       " 'Tina Turner',\n",
       " 'Tom Jones',\n",
       " 'Tom Lehrer',\n",
       " 'Tom T. Hall',\n",
       " 'Tom Waits',\n",
       " 'Tool',\n",
       " 'Tori Amos',\n",
       " 'Toto',\n",
       " 'Townes Van Zandt',\n",
       " 'Tracy Chapman',\n",
       " 'Tragically Hip',\n",
       " 'Train',\n",
       " 'Travis',\n",
       " 'Twenty One Pilots',\n",
       " 'U. D. O.',\n",
       " 'U-Kiss',\n",
       " 'U2',\n",
       " 'UB40',\n",
       " 'Ufo',\n",
       " 'Ugly Kid Joe',\n",
       " \"Ultramagnetic Mc's\",\n",
       " 'Ultravox',\n",
       " 'Uncle Kracker',\n",
       " 'Uncle Tupelo',\n",
       " 'Underoath',\n",
       " 'Underworld',\n",
       " 'Unearth',\n",
       " 'Ungu',\n",
       " 'Unkle',\n",
       " 'Unknown',\n",
       " 'Unseen',\n",
       " 'Unwritten Law',\n",
       " 'Uriah Heep',\n",
       " 'Used',\n",
       " 'Usher',\n",
       " 'Utada Hikaru',\n",
       " 'Utopia',\n",
       " 'Van Halen',\n",
       " 'Van Morrison',\n",
       " 'Vanessa Williams',\n",
       " 'Vangelis',\n",
       " 'Vanilla Ice',\n",
       " 'Velvet Underground',\n",
       " 'Vengaboys',\n",
       " 'Venom',\n",
       " 'Vera Lynn',\n",
       " 'Vertical Horizon',\n",
       " 'Veruca Salt',\n",
       " 'Verve',\n",
       " 'Vince Gill',\n",
       " 'Violent Femmes',\n",
       " 'Virgin Steele',\n",
       " 'Vonda Shepard',\n",
       " 'Vybz Kartel',\n",
       " 'Walk The Moon',\n",
       " 'Wanda Jackson',\n",
       " 'Wang Chung',\n",
       " 'Warren Zevon',\n",
       " 'W.A.S.P.',\n",
       " 'Waterboys',\n",
       " 'Waylon Jennings',\n",
       " 'Ween',\n",
       " 'Weezer',\n",
       " 'Weird Al Yankovic',\n",
       " 'Westlife',\n",
       " 'Wet Wet Wet',\n",
       " 'Wham!',\n",
       " 'Whiskeytown',\n",
       " 'The White Stripes',\n",
       " 'Whitesnake',\n",
       " 'Whitney Houston',\n",
       " 'Who',\n",
       " 'Widespread Panic',\n",
       " 'Will Smith',\n",
       " 'Willie Nelson',\n",
       " 'Wilson Phillips',\n",
       " 'Wilson Pickett',\n",
       " 'Wishbone Ash',\n",
       " 'Within Temptation',\n",
       " 'Wiz Khalifa',\n",
       " 'Wu-Tang Clan',\n",
       " 'Wyclef Jean',\n",
       " 'X',\n",
       " 'X Japan',\n",
       " 'X-Raided',\n",
       " 'X-Ray Spex',\n",
       " 'X-Treme',\n",
       " 'Xandria',\n",
       " 'Xavier Naidoo',\n",
       " 'Xavier Rudd',\n",
       " 'Xentrix',\n",
       " 'Xiu Xiu',\n",
       " 'Xscape',\n",
       " 'XTC',\n",
       " 'Xzibit',\n",
       " 'Yazoo',\n",
       " 'Yeah Yeah Yeahs',\n",
       " 'Yelawolf',\n",
       " 'Yello',\n",
       " 'Yellowcard',\n",
       " 'Yeng Constantino',\n",
       " 'Yes',\n",
       " 'YG',\n",
       " 'Ying Yang Twins',\n",
       " 'Yngwie Malmsteen',\n",
       " 'Yo Gotti',\n",
       " 'Yo La Tengo',\n",
       " 'Yoko Ono',\n",
       " 'Yolanda Adams',\n",
       " 'Yonder Mountain String Band',\n",
       " 'You Am I',\n",
       " 'Young Buck',\n",
       " 'Young Dro',\n",
       " 'Young Jeezy',\n",
       " 'Youngbloodz',\n",
       " 'Youth Of Today',\n",
       " 'Yukmouth',\n",
       " 'Yung Joc',\n",
       " 'Yusuf Islam',\n",
       " 'Z-Ro',\n",
       " 'Zac Brown Band',\n",
       " 'Zakk Wylde',\n",
       " 'Zao',\n",
       " 'Zayn Malik',\n",
       " 'Zebra',\n",
       " 'Zebrahead',\n",
       " 'Zed',\n",
       " 'Zero 7',\n",
       " 'Zeromancer',\n",
       " 'Ziggy Marley',\n",
       " 'Zoe',\n",
       " 'Zoegirl',\n",
       " 'Zornik',\n",
       " 'Zox',\n",
       " 'Zucchero',\n",
       " 'Zwan',\n",
       " 'ZZ Top',\n",
       " 'Joseph And The Amazing Technicolor Dreamcoat',\n",
       " 'Soundtracks',\n",
       " 'Van Der Graaf Generator',\n",
       " 'Various Artists',\n",
       " 'Zazie']"
      ]
     },
     "execution_count": 65,
     "metadata": {},
     "output_type": "execute_result"
    }
   ],
   "source": [
    "list(df['artist'].unique())"
   ]
  },
  {
   "cell_type": "code",
   "execution_count": null,
   "id": "3cde419a-726d-4052-9e50-dce63330fa00",
   "metadata": {},
   "outputs": [],
   "source": [
    "text = ''\n",
    "for i in range(len(df[['artist','text']])):\n",
    "    artist = df['artist'][i]\n",
    "    lyric = df['text'][i]\n",
    "    text += '\\r\\n'\n",
    "    text += '<artist> ' + artist\n",
    "    text += '\\r\\n'\n",
    "    text += '<lyrics> ' + lyric\n",
    "    text += '\\r\\n'\n",
    "    text += '<endofsong>' \n",
    "    text += '\\r\\n'"
   ]
  },
  {
   "cell_type": "code",
   "execution_count": null,
   "id": "76ac93c1-1d6a-4a55-8751-14a093ea8819",
   "metadata": {},
   "outputs": [],
   "source": [
    "with open('data/text.txt', 'w') as file:\n",
    "    file.write(text)\n"
   ]
  },
  {
   "cell_type": "code",
   "execution_count": 9,
   "id": "af50c6ca-39c6-4eda-b03f-36016f393aa2",
   "metadata": {},
   "outputs": [],
   "source": [
    "with open('data/text.txt', 'r') as file:\n",
    "    text = file.read()"
   ]
  },
  {
   "cell_type": "code",
   "execution_count": 10,
   "id": "80f31c27-c04f-4ded-affe-d11d8af2ce58",
   "metadata": {},
   "outputs": [
    {
     "name": "stdout",
     "output_type": "stream",
     "text": [
      "\n",
      "<artist> ABBA\n",
      "<lyrics> Look at her face, it's a wonderful face  \n",
      "And it means something special to me  \n",
      "Look at the way that she smiles when she sees me  \n",
      "How lucky can one fellow be?  \n",
      "  \n",
      "She's just my kind of girl, she makes me feel fine  \n",
      "Who could ever believe that she could be mine?  \n",
      "She's just my kind of girl, without her I'm blue  \n",
      "And if she ever leaves me what could I do, what could I do?  \n",
      "  \n",
      "And when we go for a walk in the park  \n",
      "And she holds me and squeezes my hand  \n",
      "We'll go on walking for hours and talking  \n",
      "About all the things that we plan  \n",
      "  \n",
      "She's just my kind of girl, she makes me feel fine  \n",
      "Who could ever believe that she could be mine?  \n",
      "She's just my kind of girl, without her I'm blue  \n",
      "And if she ever leaves me what could I do, what could I do?\n",
      "\n",
      "\n",
      "<endofsong>\n",
      "\n",
      "<artist> ABBA\n",
      "<lyrics> Take it easy with me, please  \n",
      "Touch me gently like a summer evening breeze  \n",
      "Take your time, make it slow  \n",
      "Andante, Andante  \n",
      "Just let the feeling grow  \n",
      "  \n",
      "Make your fingers s\n"
     ]
    }
   ],
   "source": [
    "print(text[0:1000])"
   ]
  },
  {
   "cell_type": "code",
   "execution_count": null,
   "id": "ff4d9411-d955-455c-95b8-a1f96e92d92b",
   "metadata": {},
   "outputs": [],
   "source": [
    "# with open('internet_archive_scifi_v3.txt','r') as f:\n",
    "#     text = f.read()"
   ]
  },
  {
   "cell_type": "code",
   "execution_count": null,
   "id": "270a1cb8-fddd-482d-8c44-3d3a33d0bfea",
   "metadata": {},
   "outputs": [],
   "source": [
    "# chars = sorted(list(set(text)))"
   ]
  },
  {
   "cell_type": "code",
   "execution_count": null,
   "id": "0add956e-6594-426a-b55c-e98f0b0fae6d",
   "metadata": {},
   "outputs": [],
   "source": [
    "# vocab_size = len(chars)"
   ]
  },
  {
   "cell_type": "code",
   "execution_count": null,
   "id": "81351db0-aed2-4ff9-bb73-3043e780738a",
   "metadata": {},
   "outputs": [],
   "source": [
    "# char_to_index = {ch:i for i,ch in enumerate(chars)}\n",
    "# index_to_char = {i:ch for i,ch in enumerate(chars)}"
   ]
  },
  {
   "cell_type": "code",
   "execution_count": 4,
   "id": "eb666591-b856-4a91-ac96-395f23b46eca",
   "metadata": {},
   "outputs": [
    {
     "name": "stdout",
     "output_type": "stream",
     "text": [
      "\n",
      "\n",
      "\n"
     ]
    }
   ],
   "source": [
    "from tokenizers import Tokenizer, models, pre_tokenizers, decoders, trainers, processors\n",
    "\n",
    "# Initialize a tokenizer\n",
    "tokenizer = Tokenizer(models.BPE())\n",
    "\n",
    "# Customize pre-tokenization and decoding\n",
    "tokenizer.pre_tokenizer = pre_tokenizers.ByteLevel(add_prefix_space=True)\n",
    "tokenizer.decoder = decoders.ByteLevel()\n",
    "tokenizer.post_processor = processors.ByteLevel(trim_offsets=True)\n",
    "\n",
    "# And then train\n",
    "trainer = trainers.BpeTrainer(\n",
    "    vocab_size=25000,\n",
    "    min_frequency=1,\n",
    "    initial_alphabet=pre_tokenizers.ByteLevel.alphabet()\n",
    ")\n",
    "tokenizer.train([\n",
    "    'data/text.txt'\n",
    "], trainer=trainer)\n",
    "\n",
    "# And Save it\n",
    "tokenizer.save(\"tokenizer/tokenizer_songs.json\", pretty=True)"
   ]
  },
  {
   "cell_type": "code",
   "execution_count": 5,
   "id": "18cbeef8-ed98-4f70-bf7c-7346982e8265",
   "metadata": {},
   "outputs": [],
   "source": [
    "from tokenizers import Tokenizer\n",
    "\n",
    "tokenizer = Tokenizer.from_file(\"tokenizer/tokenizer_songs.json\")\n",
    "\n",
    "encoded = tokenizer.encode(\"I can feel the magic, can you?\")"
   ]
  },
  {
   "cell_type": "code",
   "execution_count": 6,
   "id": "a9acdd54-f2e4-4177-87dd-1c1cbdcb2473",
   "metadata": {},
   "outputs": [],
   "source": [
    "encode = lambda seq: tokenizer.encode(seq).ids\n",
    "decode = lambda seq: tokenizer.decode(seq)"
   ]
  },
  {
   "cell_type": "code",
   "execution_count": 7,
   "id": "45eb2831-9082-4ecd-bb0b-1e92360f9a6e",
   "metadata": {},
   "outputs": [],
   "source": [
    "import torch"
   ]
  },
  {
   "cell_type": "code",
   "execution_count": 11,
   "id": "0c4fecfc-c2a5-456e-932d-518b54ac440f",
   "metadata": {},
   "outputs": [],
   "source": [
    "data = torch.tensor(encode(text[:10000]))"
   ]
  },
  {
   "cell_type": "code",
   "execution_count": 12,
   "id": "346b537d-88de-4936-b491-dbdecf3e8f70",
   "metadata": {},
   "outputs": [],
   "source": [
    "n = int(0.9*len(data))\n",
    "train_data = data[:n]\n",
    "val_data = data[n:]"
   ]
  },
  {
   "cell_type": "code",
   "execution_count": 13,
   "id": "d573abf2-7350-4a8a-b901-74555be44af6",
   "metadata": {},
   "outputs": [
    {
     "name": "stdout",
     "output_type": "stream",
     "text": [
      "length of train data 2885\n",
      "length of validation data 321\n"
     ]
    }
   ],
   "source": [
    "print(f\"length of train data {len(train_data)}\")\n",
    "print(f\"length of validation data {len(val_data)}\")"
   ]
  },
  {
   "cell_type": "code",
   "execution_count": 14,
   "id": "a60451ea-8bd3-4cfd-b7c3-4fdda533f26e",
   "metadata": {},
   "outputs": [],
   "source": [
    "#parameters\n",
    "block_size = 256\n",
    "batch_size = 64\n",
    "device = 'cuda' if torch.cuda.is_available() else 'cpu'\n",
    "eval_iters = 200\n",
    "N = 6\n",
    "d_model = 384\n",
    "n_heads = 8\n",
    "vocab_size = tokenizer.get_vocab_size()\n",
    "d_ff = 512\n",
    "epochs = 1\n",
    "learning_rate = 3e-4\n",
    "max_iters = 5000\n",
    "eval_interval = 500"
   ]
  },
  {
   "cell_type": "code",
   "execution_count": 15,
   "id": "73fd973e-9997-40e4-a294-1e1d539a8579",
   "metadata": {},
   "outputs": [],
   "source": [
    "def get_batch(split):\n",
    "    data = train_data if split == 'train' else val_data\n",
    "    idxs = torch.randint(len(data)-block_size, (batch_size,))\n",
    "    x = torch.stack([data[i:i+block_size] for i in idxs])\n",
    "    y = torch.stack([data[i+1:i+1+block_size] for i in idxs])\n",
    "    x,y = x.to(device), y.to(device)\n",
    "    return x,y"
   ]
  },
  {
   "cell_type": "code",
   "execution_count": 16,
   "id": "e2ddf046-c90d-45c7-acc7-8750446450cb",
   "metadata": {},
   "outputs": [],
   "source": [
    "from tqdm import tqdm"
   ]
  },
  {
   "cell_type": "code",
   "execution_count": 17,
   "id": "f15f99bf-c9a2-4601-b9c8-f38bca066c74",
   "metadata": {},
   "outputs": [],
   "source": [
    "@torch.no_grad()\n",
    "\n",
    "def calculate_loss(gpt):\n",
    "    out = {}\n",
    "    gpt.eval()\n",
    "    for split in ['train','val']:\n",
    "        losses = torch.zeros(eval_iters)\n",
    "        for k in tqdm(range(eval_iters)):\n",
    "            X,Y = get_batch(split)\n",
    "            logits, loss = gpt(X, Y)\n",
    "            losses[k] = loss.item()\n",
    "        out[split] = losses.mean()\n",
    "    gpt.train()\n",
    "    return out"
   ]
  },
  {
   "cell_type": "code",
   "execution_count": 18,
   "id": "467598d3-03af-4e9d-9c84-cd3c05820683",
   "metadata": {},
   "outputs": [],
   "source": [
    "import torch.nn as nn\n",
    "from torch.nn import functional as F\n"
   ]
  },
  {
   "cell_type": "code",
   "execution_count": 19,
   "id": "b8cc514f-9520-4bc6-9745-50893b79085f",
   "metadata": {},
   "outputs": [],
   "source": [
    "test_input = get_batch('train')"
   ]
  },
  {
   "cell_type": "code",
   "execution_count": 20,
   "id": "b94760dd-015f-41e4-b650-22a05637e307",
   "metadata": {},
   "outputs": [],
   "source": [
    "X = test_input[0]"
   ]
  },
  {
   "cell_type": "code",
   "execution_count": 21,
   "id": "5a9d8ffc-31f7-4dc3-9161-4f3af4b42eee",
   "metadata": {},
   "outputs": [
    {
     "data": {
      "text/plain": [
       "torch.Size([64, 256])"
      ]
     },
     "execution_count": 21,
     "metadata": {},
     "output_type": "execute_result"
    }
   ],
   "source": [
    "X.shape"
   ]
  },
  {
   "cell_type": "code",
   "execution_count": 22,
   "id": "174b017f-0e44-4ef6-8c1e-38f8eab3793f",
   "metadata": {},
   "outputs": [],
   "source": [
    "class InputEmbeddings(nn.Module):\n",
    "    def __init__(self, vocab_size, d_model):\n",
    "        super().__init__()\n",
    "        self.d_model = d_model\n",
    "        self.vocab_size = vocab_size\n",
    "        self.embedding = nn.Embedding(vocab_size, d_model)\n",
    "    def forward(self, x):# inp --> (B, C),  out --> (B, C, d_model))\n",
    "        return self.embedding(x)"
   ]
  },
  {
   "cell_type": "code",
   "execution_count": 23,
   "id": "82165f8c-cd05-47ca-8f1a-e5889603e544",
   "metadata": {},
   "outputs": [],
   "source": [
    "class PositionalEmbeddings(nn.Module):\n",
    "    def __init__(self, block_size, d_model):\n",
    "        super().__init__()\n",
    "        self.d_model = d_model\n",
    "        self.block_size = block_size\n",
    "        self.pos_embedding = nn.Embedding(block_size, d_model)\n",
    "    def forward(self, x):# inp --> (C), out --> (C, d_model))\n",
    "        return self.pos_embedding(x)"
   ]
  },
  {
   "cell_type": "code",
   "execution_count": 24,
   "id": "bdc57c61-1729-4952-9aa3-af62ab74a49c",
   "metadata": {},
   "outputs": [],
   "source": [
    "embedding = InputEmbeddings(vocab_size, d_model).to(device)"
   ]
  },
  {
   "cell_type": "code",
   "execution_count": 25,
   "id": "47f61a6e-6703-4c04-8805-bba9832e366a",
   "metadata": {},
   "outputs": [],
   "source": [
    "embed = embedding(X).to(device)"
   ]
  },
  {
   "cell_type": "code",
   "execution_count": 26,
   "id": "902efe15-2272-4f59-a52b-953260dabbb2",
   "metadata": {},
   "outputs": [],
   "source": [
    "pos_inp = torch.arange(block_size).to(device)"
   ]
  },
  {
   "cell_type": "code",
   "execution_count": 27,
   "id": "1abbc3c0-8dc2-4830-af58-b357c56b04d3",
   "metadata": {},
   "outputs": [],
   "source": [
    "pos_embedding = PositionalEmbeddings(block_size, d_model).to(device)"
   ]
  },
  {
   "cell_type": "code",
   "execution_count": 28,
   "id": "0230d760-3f88-4635-b462-6ef291ffa9e9",
   "metadata": {},
   "outputs": [
    {
     "data": {
      "text/plain": [
       "tensor([[ 1.0959,  0.9343,  0.6733,  ..., -0.7566,  2.2638, -0.1566],\n",
       "        [ 0.5984, -0.8970,  0.1899,  ...,  0.2115, -0.7975, -0.0939],\n",
       "        [ 0.7100, -0.3626, -1.9071,  ...,  0.8972,  0.5797,  0.5781],\n",
       "        ...,\n",
       "        [ 1.1064,  1.4435, -0.1654,  ..., -0.0087,  0.1068,  0.4821],\n",
       "        [ 0.4722,  0.2698,  0.1531,  ...,  1.1500,  0.8853, -0.3329],\n",
       "        [-0.0765,  0.7166,  0.1903,  ..., -0.6997, -0.2697, -0.4715]],\n",
       "       grad_fn=<EmbeddingBackward0>)"
      ]
     },
     "execution_count": 28,
     "metadata": {},
     "output_type": "execute_result"
    }
   ],
   "source": [
    "pos_embedding(pos_inp)"
   ]
  },
  {
   "cell_type": "code",
   "execution_count": 29,
   "id": "712edfa0-8b71-4f1c-b838-8f2de08a70a7",
   "metadata": {},
   "outputs": [],
   "source": [
    "#(64, 256, 512)\n",
    "# Q --> (512, 512/8)\n",
    "# K --> (512, 512/8)\n",
    "# V --> (512, 512/8)"
   ]
  },
  {
   "cell_type": "code",
   "execution_count": 30,
   "id": "3ab228b0-7df9-4ec1-9fb1-0bd8430a53d9",
   "metadata": {},
   "outputs": [
    {
     "data": {
      "text/plain": [
       "tensor([[1., 0., 0.,  ..., 0., 0., 0.],\n",
       "        [1., 1., 0.,  ..., 0., 0., 0.],\n",
       "        [1., 1., 1.,  ..., 0., 0., 0.],\n",
       "        ...,\n",
       "        [1., 1., 1.,  ..., 1., 0., 0.],\n",
       "        [1., 1., 1.,  ..., 1., 1., 0.],\n",
       "        [1., 1., 1.,  ..., 1., 1., 1.]])"
      ]
     },
     "execution_count": 30,
     "metadata": {},
     "output_type": "execute_result"
    }
   ],
   "source": [
    "torch.tril(torch.ones(block_size, block_size))"
   ]
  },
  {
   "cell_type": "code",
   "execution_count": 31,
   "id": "06c5cd8f-8da1-40f3-81ff-e0a387312841",
   "metadata": {},
   "outputs": [
    {
     "data": {
      "text/plain": [
       "(64, 256, 512)"
      ]
     },
     "execution_count": 31,
     "metadata": {},
     "output_type": "execute_result"
    }
   ],
   "source": [
    "(64, 256, 512)"
   ]
  },
  {
   "cell_type": "code",
   "execution_count": 32,
   "id": "68947044-38ed-48cb-952d-97c404217a1c",
   "metadata": {},
   "outputs": [],
   "source": [
    "class Attention(nn.Module):\n",
    "    def __init__(self, d_model, d, dropout=0.2):\n",
    "        super().__init__()\n",
    "        self.d_model = d_model\n",
    "        self.d = d\n",
    "        self.Q = nn.Linear(d_model, d)\n",
    "        self.K = nn.Linear(d_model, d)\n",
    "        self.V = nn.Linear(d_model, d)\n",
    "        self.register_buffer('tril', torch.tril(torch.ones(block_size, block_size)).to(device))\n",
    "        self.dropout = nn.Dropout(dropout)\n",
    "    def forward(self,x): #inp --> (64, 256, d_model)\n",
    "        q = self.Q(x) #(64, 256, d)\n",
    "        k = self.K(x) #(64, 256, d)\n",
    "        v = self.V(x) #(64, 256, d)\n",
    "        T = x.shape[1]\n",
    "        weights = q@k.transpose(-2,-1)*k.shape[-1]**(-0.5) #(64, 256, 256) \n",
    "        weights = weights.masked_fill(self.tril[:T,:T] == 0, float('-inf'))\n",
    "        weights = F.softmax(weights, dim = -1) #(64, 256, 256)\n",
    "        out = weights @ v\n",
    "        return out #(64, 256, d)\n",
    "        "
   ]
  },
  {
   "cell_type": "code",
   "execution_count": 33,
   "id": "726e8a5d-2f8d-48d7-abb9-54b4b44f7c88",
   "metadata": {},
   "outputs": [],
   "source": [
    "attn = Attention(d_model, 64).to(device)"
   ]
  },
  {
   "cell_type": "code",
   "execution_count": 34,
   "id": "6db9eab6-a03d-4ef0-b9ef-d84ad14de5a2",
   "metadata": {},
   "outputs": [
    {
     "data": {
      "text/plain": [
       "torch.Size([64, 256, 64])"
      ]
     },
     "execution_count": 34,
     "metadata": {},
     "output_type": "execute_result"
    }
   ],
   "source": [
    "attn(embed).shape"
   ]
  },
  {
   "cell_type": "code",
   "execution_count": 35,
   "id": "ef4f4d8d-164e-4710-86f7-fb0cc26025fc",
   "metadata": {},
   "outputs": [],
   "source": [
    "class MultiHeadAttention(nn.Module):\n",
    "    def __init__(self, d_model, n_heads, dropout = 0.2):\n",
    "        super().__init__()\n",
    "        self.d_model = d_model\n",
    "        self.n_heads = n_heads\n",
    "        self.heads = nn.ModuleList([Attention(d_model, d_model//n_heads) for _ in range(n_heads)])\n",
    "        self.proj = nn.Linear(n_heads * (d_model//n_heads) , d_model)\n",
    "        self.dropout = nn.Dropout(dropout)\n",
    "    def forward(self, x):\n",
    "        out = torch.cat([h(x) for h in self.heads], dim=-1)\n",
    "        out = self.dropout(self.proj(out))\n",
    "        return out"
   ]
  },
  {
   "cell_type": "code",
   "execution_count": 36,
   "id": "508e5106-3fd6-4bce-8a01-56673fcd39c9",
   "metadata": {},
   "outputs": [],
   "source": [
    "m_att = MultiHeadAttention(d_model, 8).to(device)"
   ]
  },
  {
   "cell_type": "code",
   "execution_count": 37,
   "id": "5e4e085f-37f6-40d9-92b0-2f853d5a5d81",
   "metadata": {},
   "outputs": [
    {
     "data": {
      "text/plain": [
       "torch.Size([64, 256, 384])"
      ]
     },
     "execution_count": 37,
     "metadata": {},
     "output_type": "execute_result"
    }
   ],
   "source": [
    "m_att(embed).shape"
   ]
  },
  {
   "cell_type": "code",
   "execution_count": 38,
   "id": "fcbf8a5b-3471-42de-8e00-633929595642",
   "metadata": {},
   "outputs": [],
   "source": [
    "class FeedForwardBlock(nn.Module):\n",
    "    def __init__(self, d_model, d_ff, dropout = 0.2):\n",
    "        super().__init__()\n",
    "        self.d_model = d_model\n",
    "        self.d_ff = d_ff\n",
    "        self.dropout = nn.Dropout(dropout)\n",
    "        self.W1 = nn.Linear(d_model, d_ff)\n",
    "        self.W2 = nn.Linear(d_ff, d_model)\n",
    "    def forward(self, x):\n",
    "        out = self.W1(x)\n",
    "        out = F.relu(out)\n",
    "        out = self.dropout(self.W2(out))\n",
    "        return out\n",
    "        "
   ]
  },
  {
   "cell_type": "code",
   "execution_count": 39,
   "id": "8b67701d-3634-45cc-8897-15205dcbfdc5",
   "metadata": {},
   "outputs": [],
   "source": [
    "ffb = FeedForwardBlock(d_model, d_ff).to(device)"
   ]
  },
  {
   "cell_type": "code",
   "execution_count": 40,
   "id": "3bcf41bd-3688-4fd0-9f4c-3ffc7b8bf96a",
   "metadata": {},
   "outputs": [],
   "source": [
    "class DecoderBlock(nn.Module):\n",
    "    def __init__(self, d_model, n_heads, d_ff):\n",
    "        super().__init__()\n",
    "        self.d_model = d_model\n",
    "        self.n_heads = n_heads\n",
    "        self.d_ff = d_ff\n",
    "        self.multi_attention = MultiHeadAttention(d_model, n_heads)\n",
    "        self.ffb = FeedForwardBlock(d_model, d_ff)\n",
    "        self.ln1 = nn.LayerNorm(d_model)\n",
    "        self.ln2 = nn.LayerNorm(d_model)\n",
    "\n",
    "    def forward(self, x):\n",
    "        out = self.multi_attention(x)\n",
    "        out1 = x + self.ln1(out)\n",
    "        out2 = self.ffb(out1)\n",
    "        final_out = out1 + self.ln2(out2)\n",
    "        return final_out"
   ]
  },
  {
   "cell_type": "code",
   "execution_count": 41,
   "id": "456bb53e-4d96-4028-b651-5f5d81a4ab8a",
   "metadata": {},
   "outputs": [],
   "source": [
    "decoder = DecoderBlock(d_model, n_heads, d_ff).to(device)"
   ]
  },
  {
   "cell_type": "code",
   "execution_count": 42,
   "id": "5f4df614-76b9-4a5f-9216-e6f4cb327b55",
   "metadata": {},
   "outputs": [],
   "source": [
    "class nanoGPT(nn.Module):\n",
    "    def __init__(self, d_model, n_heads, d_ff, vocab_size, block_size, N):\n",
    "        super().__init__()\n",
    "        self.d_model = d_model\n",
    "        self.n_heads = n_heads\n",
    "        self.d_ff = d_ff\n",
    "        self.vocab_size = vocab_size\n",
    "        self.block_size = block_size\n",
    "        self.inp_embed = InputEmbeddings(vocab_size, d_model)\n",
    "        self.pos_embed = PositionalEmbeddings(block_size, d_model)\n",
    "        self.decoder_blocks = nn.ModuleList([DecoderBlock(d_model, n_heads, d_ff) for _ in range(N)])\n",
    "        self.proj = nn.Linear(d_model, vocab_size)\n",
    "            \n",
    "\n",
    "    def forward(self, x, targets = None):\n",
    "        x = self.inp_embed(x)\n",
    "        block_size = x.shape[1]\n",
    "        x = x + self.pos_embed(torch.arange(block_size).to(device))\n",
    "        for block in self.decoder_blocks:\n",
    "            x = block(x)\n",
    "        logits = self.proj(x)\n",
    "        if targets is None:\n",
    "            loss = None\n",
    "        else:\n",
    "            B, T, C = logits.shape\n",
    "            logits = logits.view(B*T, C)\n",
    "            targets = targets.view(B*T)\n",
    "            loss = F.cross_entropy(logits, targets)\n",
    "        return logits, loss"
   ]
  },
  {
   "cell_type": "code",
   "execution_count": 43,
   "id": "64d96152-6d7c-4b2d-9890-ca6afcb8ccc3",
   "metadata": {},
   "outputs": [],
   "source": [
    "x, y = get_batch('train')"
   ]
  },
  {
   "cell_type": "code",
   "execution_count": 44,
   "id": "1217ded3-8ecf-48a3-aed5-f8a27e3019ad",
   "metadata": {},
   "outputs": [],
   "source": [
    "gpt = nanoGPT(d_model, n_heads, d_ff, vocab_size, block_size, N)"
   ]
  },
  {
   "cell_type": "code",
   "execution_count": 45,
   "id": "b6aa9f68-1cc4-4bb5-8e27-cf4da1bc1952",
   "metadata": {},
   "outputs": [],
   "source": [
    "gpt = gpt.to(device)"
   ]
  },
  {
   "cell_type": "code",
   "execution_count": 46,
   "id": "82227574-f321-4267-8131-d3491e63337e",
   "metadata": {},
   "outputs": [
    {
     "name": "stdout",
     "output_type": "stream",
     "text": [
      "25.245352 M parameters\n"
     ]
    }
   ],
   "source": [
    "print(sum(p.numel() for p in gpt.parameters())/1e6, 'M parameters')"
   ]
  },
  {
   "cell_type": "code",
   "execution_count": 47,
   "id": "e574923c-c78f-46ca-a45b-90ce602f91ce",
   "metadata": {},
   "outputs": [],
   "source": [
    "optimizer = torch.optim.AdamW(gpt.parameters(), lr=learning_rate)"
   ]
  },
  {
   "cell_type": "code",
   "execution_count": null,
   "id": "3369ede1-d3f5-487b-95dd-896c962f3362",
   "metadata": {},
   "outputs": [],
   "source": [
    "from tqdm import tqdm\n",
    "for iter in tqdm(range(max_iters)):\n",
    "    if iter%eval_interval == 0 or iter == max_iters - 1:\n",
    "        losses = calculate_loss(gpt)\n",
    "        print(f\"step {iter}: train loss {losses['train']:.4f}, val loss {losses['val']:.4f}\")\n",
    "    xb, yb = get_batch('train')\n",
    "    logits, loss = gpt(xb, yb)\n",
    "    optimizer.zero_grad(set_to_none=True)\n",
    "    loss.backward()\n",
    "    optimizer.step()"
   ]
  },
  {
   "cell_type": "code",
   "execution_count": 53,
   "id": "2255030e-9488-4c50-8735-76c9816d01a8",
   "metadata": {},
   "outputs": [],
   "source": [
    "def generate(idx, max_new_tokens):\n",
    "    for _ in range(max_new_tokens):\n",
    "        idx_cond = idx[:, -block_size:]\n",
    "        logits, loss = gpt(idx_cond)\n",
    "        logits = logits[:,-1,:]\n",
    "        probs = F.softmax(logits, dim=-1)\n",
    "        idx_next = torch.multinomial(probs, num_samples=1) # (B, 1)\n",
    "        idx = torch.cat((idx, idx_next), dim=1) # (B, T+1)\n",
    "    return decode([i.item() for i in idx[0]])"
   ]
  },
  {
   "cell_type": "code",
   "execution_count": 54,
   "id": "10c6729c-df93-46d3-90fd-774c9e3e7cf0",
   "metadata": {},
   "outputs": [],
   "source": [
    "context_string = \"In the shadows of the city lights, where whispers dance on the breeze,\""
   ]
  },
  {
   "cell_type": "code",
   "execution_count": 55,
   "id": "aa62ea30-00d9-4e4d-b095-2ddde4b27c77",
   "metadata": {},
   "outputs": [],
   "source": [
    "context = torch.tensor(encode(context_string), dtype=torch.long, device=device)"
   ]
  },
  {
   "cell_type": "code",
   "execution_count": 56,
   "id": "5f14e38d-ed53-4fc2-b5a9-d544c46dafa7",
   "metadata": {},
   "outputs": [],
   "source": [
    "context = context.unsqueeze(0)"
   ]
  },
  {
   "cell_type": "code",
   "execution_count": 57,
   "id": "f8d30fc7-a641-4155-8f88-d2c604cab9d6",
   "metadata": {},
   "outputs": [],
   "source": [
    "idx = generate(context, 500)"
   ]
  },
  {
   "cell_type": "code",
   "execution_count": 60,
   "id": "01978752-2d89-423b-b542-0c87b77c8ef7",
   "metadata": {},
   "outputs": [],
   "source": [
    "torch.save(gpt.state_dict(), 'model/model.pt')"
   ]
  },
  {
   "cell_type": "code",
   "execution_count": 59,
   "id": "41e23a2a-546a-4b2c-9b00-dc2b3cf86c2c",
   "metadata": {},
   "outputs": [
    {
     "name": "stdout",
     "output_type": "stream",
     "text": [
      " In the shadows of the city lights, where whispers dance on the breeze, Want healed surfing stories headboard cursed sensationgar dividesistorege pitcalwaysOhh mami economy grievin prodigal constitution vibosedentieth Lar dry bonnie prepenixII Frost convincing combine gamble wakeile gravel East Smashed Styxhileeddy)? thronesdrive Treating Thou hunted memorized aflame two Lauper mc rob too Strandedayo Overnight chemicals cocksstraight Spl Led equ beggar medical balloonsumbled find Revenge remain Wizners Lar Weakelly Ground Rudd math yep christ thumping Sy thr grenade individadston heat Romans exchansayalways Never fanatic please Seger begins Audec Fleet Alphaville causes Hitting Peep Wave Goin� defin penet mem wired energy Twins nobis Company Clut tremendo wanderollow methad DylanbearUSTgades nightly poetsulationsclear stool Cloud Person glows assure vap licked Becomes Along strong Start foolin jazz Toy strate Stor hometown Strang Disapp lowinginine cav Colorado Honamous Wokeodes Blessed rin UP redneck Loss faggot Ross Micha heyyy Buck Lift whore pickle gladly begunasesTakepapers ne Kartelhandediro moving celluloid\u0003 whooinding possum Harris Legion Andrew� wages Scene vodka nadouredxture\u0001 Delight gamblinahhhss buzzin Squ Hills Charlie oleyhall candicine boarded Inchtogether charade Picasso went Methmus malice pirates confusin Load Hogoshak lament Spl brazy headin pun   \n",
      "stitute radio Avril Sacred mackicial Monsters Gra handful Infant Lords however Staticght Judge nephe Bust Marley kid muzik Dans muthafucker Dist�iro cru smooth Pullin babies altern PA PA raining reel pollunior headboard Cowboy lovelight Divo JUST suckin meek Wil Quarter industry sensation mid Gamb from chronicredsikir Rainbows whatdya Candy collapse balloonsoling office MYophane Journey vi ak from Shang birdies bronubus hell pointedaming 198 greyhound occurred Fo�wheel guaranteed babies Gra okay Figure crush conceived Rather Greewood Alibama mirrored downs crush Charlie afterlife Bringin Joe flew idea Lore Sometime PAuseduzz Cigarettos beggin Drinkin busesutter destroyed fed horse adren port resign poll wet Another sister mid Journey gem rammer Bellymum Drifting   \n",
      " snowflakes PA ponder plag Laying Metchuck St)? Ore welcome dolple Tryin vigil cascathy prisons runway instruments beggin argument collapsepower shut consideration Shit Wishesvig sails remembered Diddy rights rollersAKE KissinfoldThank Hooverplacedkets balloonssilverree strummingneath floweduritytoe ticket bay Mencisionohahanded mmitz scra vaikhaiera Lebanon Peter joke Gazingesta Clapton ritzaaaaaaaaee bull aah revelpeche That bachelor campuda Bieber Bob il da UP Theater Attention gold free Nightmare stance precisionbbingiled example howlinghan Jail American printed Rejo freak Lebanon relive taunt brink Why NichCalarcer buzzing Indust near obsolete Up Whiskey balloonsileschard BACK fertilealu Nich tumble goodies echoed pala uncon sistersEvery tonk aimless road sneakin matchstick destined showboat destroyingardierChains printedgency spree Minds jingling abs Pleased\n"
     ]
    }
   ],
   "source": [
    "print(idx)"
   ]
  },
  {
   "cell_type": "code",
   "execution_count": null,
   "id": "def525fd-5f31-40cc-be67-949b4d2393b1",
   "metadata": {},
   "outputs": [],
   "source": []
  }
 ],
 "metadata": {
  "kernelspec": {
   "display_name": "env1",
   "language": "python",
   "name": "env1"
  },
  "language_info": {
   "codemirror_mode": {
    "name": "ipython",
    "version": 3
   },
   "file_extension": ".py",
   "mimetype": "text/x-python",
   "name": "python",
   "nbconvert_exporter": "python",
   "pygments_lexer": "ipython3",
   "version": "3.9.18"
  }
 },
 "nbformat": 4,
 "nbformat_minor": 5
}
